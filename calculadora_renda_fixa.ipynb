{
  "nbformat": 4,
  "nbformat_minor": 0,
  "metadata": {
    "colab": {
      "provenance": []
    },
    "kernelspec": {
      "name": "python3",
      "display_name": "Python 3"
    },
    "language_info": {
      "name": "python"
    }
  },
  "cells": [
    {
      "cell_type": "code",
      "execution_count": null,
      "metadata": {
        "id": "yZGNy8g_ksgm"
      },
      "outputs": [],
      "source": []
    },
    {
      "cell_type": "markdown",
      "source": [
        "#Simulador de investimento em renda fixa"
      ],
      "metadata": {
        "id": "HxQ59CE7oyNu"
      }
    },
    {
      "cell_type": "code",
      "source": [
        "valor = input(\"Digite o valor do investimento (prazo de 1 ano):\") #Informação digitada pelo usuário\n",
        "valor_convertido = float(valor) #Converção de string para float\n",
        "print('Rentabilidade: 0.1097(10,97% ao ano)')\n",
        "\n",
        "rendimento = valor_convertido * 0.1097\n",
        "print('Rendimento:', rendimento)\n",
        "\n",
        "valor_bruto = rendimento + valor_convertido\n",
        "print('Valor bruto:', valor_bruto)\n",
        "\n",
        "if float(valor) > 1000: #Condicional\n",
        "    imposto = 0.1\n",
        "else:                   #Condicional\n",
        "    imposto = 0.2\n",
        "print('Imposto:', imposto)\n",
        "\n",
        "valor_final = valor_convertido + rendimento - (imposto)\n",
        "print('Valor líquido:', valor_final) #Fim do sistema\n"
      ],
      "metadata": {
        "colab": {
          "base_uri": "https://localhost:8080/"
        },
        "id": "thwP7ENOMfC0",
        "outputId": "f48febc3-c1d3-4687-cb0c-c708e9dd4ace"
      },
      "execution_count": 5,
      "outputs": [
        {
          "output_type": "stream",
          "name": "stdout",
          "text": [
            "Digite o valor do investimento (prazo de 1 ano):2000\n",
            "Rentabilidade: 0.1097(10,97% ao ano)\n",
            "Rendimento: 219.4\n",
            "Valor bruto: 2219.4\n",
            "Imposto: 0.1\n",
            "Valor líquido: 2219.3\n"
          ]
        }
      ]
    }
  ]
}